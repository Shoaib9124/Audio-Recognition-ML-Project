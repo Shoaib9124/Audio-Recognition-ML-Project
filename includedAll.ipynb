{
 "cells": [
  {
   "cell_type": "code",
   "execution_count": null,
   "id": "5c8cc4a0-8921-4de5-bce7-938027060746",
   "metadata": {
    "scrolled": true
   },
   "outputs": [],
   "source": [
    "!pip install librosa numpy pandas scikit-learn tensorflow matplotlib"
   ]
  },
  {
   "cell_type": "code",
   "execution_count": null,
   "id": "709940ef-b94c-4785-a929-5efa7fcd96a5",
   "metadata": {},
   "outputs": [],
   "source": [
    "pip list\n"
   ]
  },
  {
   "cell_type": "code",
   "execution_count": 1,
   "id": "e47c6226-e56d-40d0-9495-9415b112b4b3",
   "metadata": {},
   "outputs": [],
   "source": [
    "import librosa\n",
    "import numpy as np\n",
    "import pandas as pd\n",
    "import tensorflow as tf\n",
    "from sklearn.model_selection import train_test_split\n",
    "from sklearn.preprocessing import LabelEncoder\n",
    "import matplotlib.pyplot as plt\n"
   ]
  },
  {
   "cell_type": "code",
   "execution_count": 2,
   "id": "a9e6f3a6-451b-4d73-9758-26fc3d45b651",
   "metadata": {},
   "outputs": [],
   "source": [
    "import os"
   ]
  },
  {
   "cell_type": "code",
   "execution_count": 3,
   "id": "f7b2d746-f22a-4418-b6c2-8ac86727a87c",
   "metadata": {},
   "outputs": [],
   "source": [
    "train_dir = './track-2-audio-identification-quest/training_split/training_split'\n",
    "test_dir = './track-2-audio-identification-quest/testing_split/testing_split'"
   ]
  },
  {
   "cell_type": "code",
   "execution_count": 4,
   "id": "e888bd16-2182-4445-a60f-3b9e92274197",
   "metadata": {},
   "outputs": [],
   "source": [
    "def get_list_of_files(dir_name):\n",
    "    list_of_files = os.listdir(dir_name)\n",
    "    all_files = []\n",
    "    for entry in list_of_files:\n",
    "        full_path = os.path.join(dir_name, entry)\n",
    "        if os.path.isdir(full_path):\n",
    "            all_files.extend(get_list_of_files(full_path))\n",
    "        else:\n",
    "            all_files.append(full_path)\n",
    "    return all_files"
   ]
  },
  {
   "cell_type": "code",
   "execution_count": 5,
   "id": "cf6916e8-27e2-4b12-afa1-4e79ac9421b2",
   "metadata": {},
   "outputs": [
    {
     "name": "stdout",
     "output_type": "stream",
     "text": [
      "Number of training files: 1453\n",
      "Number of testing files: 637\n"
     ]
    }
   ],
   "source": [
    "# Get list of files\n",
    "train_files = get_list_of_files(train_dir)\n",
    "test_files = get_list_of_files(test_dir)\n",
    "\n",
    "print(f\"Number of training files: {len(train_files)}\")\n",
    "print(f\"Number of testing files: {len(test_files)}\")"
   ]
  },
  {
   "cell_type": "code",
   "execution_count": 6,
   "id": "5f5de90c-9b36-4d86-8073-72447cbda4ac",
   "metadata": {},
   "outputs": [
    {
     "name": "stdout",
     "output_type": "stream",
     "text": [
      "Audio sample shape: (441000,)\n",
      "Sample rate: 44100\n"
     ]
    }
   ],
   "source": [
    "# Load a sample audio file\n",
    "sample_file = train_files[0]  # Just picking the first training file for now\n",
    "audio, sr = librosa.load(sample_file, sr=None)  # sr=None to keep the original sample rate\n",
    "\n",
    "print(f\"Audio sample shape: {audio.shape}\")\n",
    "print(f\"Sample rate: {sr}\")"
   ]
  },
  {
   "cell_type": "code",
   "execution_count": 7,
   "id": "7eb27260-97c6-4c37-98f2-227cadca42aa",
   "metadata": {},
   "outputs": [
    {
     "name": "stdout",
     "output_type": "stream",
     "text": [
      "MFCC features shape: (13,)\n"
     ]
    }
   ],
   "source": [
    "def extract_mfcc(file_path, n_mfcc=13):\n",
    "    audio, sr = librosa.load(file_path, sr=None)\n",
    "    mfccs = librosa.feature.mfcc(y=audio, sr=sr, n_mfcc=n_mfcc)\n",
    "    return np.mean(mfccs, axis=1)  # Averaging over time\n",
    "\n",
    "# Extract MFCC features for a sample file\n",
    "mfcc_features = extract_mfcc(sample_file)\n",
    "print(f\"MFCC features shape: {mfcc_features.shape}\")"
   ]
  },
  {
   "cell_type": "code",
   "execution_count": 8,
   "id": "bbb4da23-118c-445c-bb74-3f850f71348c",
   "metadata": {},
   "outputs": [
    {
     "name": "stdout",
     "output_type": "stream",
     "text": [
      "Training features shape: (1453, 13)\n",
      "Testing features shape: (637, 13)\n"
     ]
    }
   ],
   "source": [
    "def extract_features_from_files(file_paths, feature_extractor):\n",
    "    features = []\n",
    "    for file_path in file_paths:\n",
    "        feature = feature_extractor(file_path)\n",
    "        features.append(feature)\n",
    "    return np.array(features)\n",
    "\n",
    "# Extract features for training and testing files\n",
    "X_train = extract_features_from_files(train_files, extract_mfcc)\n",
    "X_test = extract_features_from_files(test_files, extract_mfcc)\n",
    "\n",
    "print(f\"Training features shape: {X_train.shape}\")\n",
    "print(f\"Testing features shape: {X_test.shape}\")\n"
   ]
  },
  {
   "cell_type": "code",
   "execution_count": 9,
   "id": "55cffa57-f858-4d3e-ab39-129e39f7a06f",
   "metadata": {},
   "outputs": [],
   "source": [
    "import re\n",
    "\n",
    "def extract_labels_from_filename(filename):\n",
    "    # Example filename: '132_70_female.wav'\n",
    "    print(f\"Processing filename:{filename}\")\n",
    "    match = re.search(r'(\\d+)_([\\d]+)_(male|female)_(\\d+)\\.wav', filename)\n",
    "    if match:\n",
    "        age = int(match.group(2))\n",
    "        gender = match.group(3)\n",
    "        \n",
    "        # Determine age label\n",
    "        if age <= 15:\n",
    "            age_label = 0\n",
    "        elif 16 <= age <= 40:\n",
    "            age_label = 1\n",
    "        else:\n",
    "            age_label = 2\n",
    "        \n",
    "        # Determine gender label\n",
    "        gender_label = 0 if gender == 'male' else 1\n",
    "        \n",
    "        return age_label, gender_label\n",
    "    else:\n",
    "        raise ValueError(\"Filename does not match expected format\")\n"
   ]
  },
  {
   "cell_type": "code",
   "execution_count": 10,
   "id": "c828201d-cf27-4708-b3be-368ac13674bd",
   "metadata": {},
   "outputs": [],
   "source": [
    "def extract_labels_from_files(file_paths):\n",
    "    age_labels = []\n",
    "    gender_labels = []\n",
    "    for file_path in file_paths:\n",
    "        try:\n",
    "            age_label, gender_label = extract_labels_from_filename(os.path.basename(file_path))\n",
    "            age_labels.append(age_label)\n",
    "            gender_labels.append(gender_label)\n",
    "        except Exception as e:\n",
    "            print(f\"Error processing file {file_path}: {e}\")\n",
    "            \n",
    "    return np.array(age_labels), np.array(gender_labels)\n"
   ]
  },
  {
   "cell_type": "code",
   "execution_count": null,
   "id": "2c4628b1-8bf0-453b-9827-97cc5bd22789",
   "metadata": {},
   "outputs": [],
   "source": [
    "y_train_age, y_train_gender = extract_labels_from_files(train_files)\n",
    "\n",
    "print(f\"Training age labels shape: {y_train_age.shape}\")\n",
    "print(f\"Training gender labels shape: {y_train_gender.shape}\")"
   ]
  },
  {
   "cell_type": "code",
   "execution_count": 12,
   "id": "00656fd3-e760-4ba6-b79b-2a2c4c9133ab",
   "metadata": {},
   "outputs": [
    {
     "name": "stdout",
     "output_type": "stream",
     "text": [
      "Validation features shape: (291, 13)\n",
      "Validation age labels shape: (291,)\n",
      "Validation gender labels shape: (291,)\n"
     ]
    }
   ],
   "source": [
    "from sklearn.model_selection import train_test_split\n",
    "\n",
    "# Split training data into training and validation sets\n",
    "X_train, X_val, y_train_age, y_val_age, y_train_gender, y_val_gender = train_test_split(\n",
    "    X_train, y_train_age, y_train_gender, test_size=0.2, random_state=42\n",
    ")\n",
    "#meaning age labels that i have made classified now\n",
    "print(f\"Validation features shape: {X_val.shape}\")\n",
    "print(f\"Validation age labels shape: {y_val_age.shape}\")\n",
    "print(f\"Validation gender labels shape: {y_val_gender.shape}\")\n"
   ]
  },
  {
   "cell_type": "code",
   "execution_count": 13,
   "id": "370e13ed-c543-4f01-907c-0ba4712c5aa7",
   "metadata": {},
   "outputs": [],
   "source": [
    "from sklearn.preprocessing import StandardScaler\n",
    "\n",
    "# Initialize the scaler\n",
    "scaler = StandardScaler()\n",
    "\n",
    "# Fit the scaler on the training data and transform both training and validation data\n",
    "X_train = scaler.fit_transform(X_train)\n",
    "X_val = scaler.transform(X_val)\n",
    "X_test = scaler.transform(X_test)"
   ]
  },
  {
   "cell_type": "code",
   "execution_count": 14,
   "id": "6a11bbba-e23c-4f1a-8136-58340253500a",
   "metadata": {},
   "outputs": [],
   "source": [
    "from tensorflow.keras.models import Model\n",
    "from tensorflow.keras.layers import Dense, Conv1D, MaxPooling1D, Flatten, Input\n",
    "from tensorflow.keras.optimizers import Adam\n",
    "\n",
    "# Define the model\n",
    "input_layer = Input(shape=(X_train.shape[1], 1))\n",
    "x = Conv1D(32, 3, activation='relu')(input_layer)\n",
    "x = MaxPooling1D(2)(x)\n",
    "x = Flatten()(x)\n",
    "x = Dense(64, activation='relu')(x)\n",
    "\n",
    "# Define two separate output layers\n",
    "age_output = Dense(3, activation='softmax', name='age_output')(x)\n",
    "gender_output = Dense(2, activation='softmax', name='gender_output')(x)\n",
    "\n",
    "# Create the model\n",
    "model = Model(inputs=input_layer, outputs=[age_output, gender_output])\n",
    "\n",
    "# Compile the model\n",
    "model.compile(\n",
    "    optimizer=Adam(learning_rate=0.0001),\n",
    "    loss={'age_output': 'sparse_categorical_crossentropy', 'gender_output': 'sparse_categorical_crossentropy'},\n",
    "    metrics={'age_output': 'accuracy', 'gender_output': 'accuracy'}\n",
    ")\n"
   ]
  },
  {
   "cell_type": "code",
   "execution_count": 15,
   "id": "fcd1a852-44fd-4100-9aec-a7e1b6f7f244",
   "metadata": {},
   "outputs": [
    {
     "data": {
      "text/html": [
       "<pre style=\"white-space:pre;overflow-x:auto;line-height:normal;font-family:Menlo,'DejaVu Sans Mono',consolas,'Courier New',monospace\"><span style=\"font-weight: bold\">Model: \"functional\"</span>\n",
       "</pre>\n"
      ],
      "text/plain": [
       "\u001b[1mModel: \"functional\"\u001b[0m\n"
      ]
     },
     "metadata": {},
     "output_type": "display_data"
    },
    {
     "data": {
      "text/html": [
       "<pre style=\"white-space:pre;overflow-x:auto;line-height:normal;font-family:Menlo,'DejaVu Sans Mono',consolas,'Courier New',monospace\">┏━━━━━━━━━━━━━━━━━━━━━━━━━━━━━━━┳━━━━━━━━━━━━━━━━━━━━━━━━━━━┳━━━━━━━━━━━━━━━━━┳━━━━━━━━━━━━━━━━━━━━━━━━━━━━┓\n",
       "┃<span style=\"font-weight: bold\"> Layer (type)                  </span>┃<span style=\"font-weight: bold\"> Output Shape              </span>┃<span style=\"font-weight: bold\">         Param # </span>┃<span style=\"font-weight: bold\"> Connected to               </span>┃\n",
       "┡━━━━━━━━━━━━━━━━━━━━━━━━━━━━━━━╇━━━━━━━━━━━━━━━━━━━━━━━━━━━╇━━━━━━━━━━━━━━━━━╇━━━━━━━━━━━━━━━━━━━━━━━━━━━━┩\n",
       "│ input_layer (<span style=\"color: #0087ff; text-decoration-color: #0087ff\">InputLayer</span>)      │ (<span style=\"color: #00d7ff; text-decoration-color: #00d7ff\">None</span>, <span style=\"color: #00af00; text-decoration-color: #00af00\">13</span>, <span style=\"color: #00af00; text-decoration-color: #00af00\">1</span>)             │               <span style=\"color: #00af00; text-decoration-color: #00af00\">0</span> │ -                          │\n",
       "├───────────────────────────────┼───────────────────────────┼─────────────────┼────────────────────────────┤\n",
       "│ conv1d (<span style=\"color: #0087ff; text-decoration-color: #0087ff\">Conv1D</span>)               │ (<span style=\"color: #00d7ff; text-decoration-color: #00d7ff\">None</span>, <span style=\"color: #00af00; text-decoration-color: #00af00\">11</span>, <span style=\"color: #00af00; text-decoration-color: #00af00\">32</span>)            │             <span style=\"color: #00af00; text-decoration-color: #00af00\">128</span> │ input_layer[<span style=\"color: #00af00; text-decoration-color: #00af00\">0</span>][<span style=\"color: #00af00; text-decoration-color: #00af00\">0</span>]          │\n",
       "├───────────────────────────────┼───────────────────────────┼─────────────────┼────────────────────────────┤\n",
       "│ max_pooling1d (<span style=\"color: #0087ff; text-decoration-color: #0087ff\">MaxPooling1D</span>)  │ (<span style=\"color: #00d7ff; text-decoration-color: #00d7ff\">None</span>, <span style=\"color: #00af00; text-decoration-color: #00af00\">5</span>, <span style=\"color: #00af00; text-decoration-color: #00af00\">32</span>)             │               <span style=\"color: #00af00; text-decoration-color: #00af00\">0</span> │ conv1d[<span style=\"color: #00af00; text-decoration-color: #00af00\">0</span>][<span style=\"color: #00af00; text-decoration-color: #00af00\">0</span>]               │\n",
       "├───────────────────────────────┼───────────────────────────┼─────────────────┼────────────────────────────┤\n",
       "│ flatten (<span style=\"color: #0087ff; text-decoration-color: #0087ff\">Flatten</span>)             │ (<span style=\"color: #00d7ff; text-decoration-color: #00d7ff\">None</span>, <span style=\"color: #00af00; text-decoration-color: #00af00\">160</span>)               │               <span style=\"color: #00af00; text-decoration-color: #00af00\">0</span> │ max_pooling1d[<span style=\"color: #00af00; text-decoration-color: #00af00\">0</span>][<span style=\"color: #00af00; text-decoration-color: #00af00\">0</span>]        │\n",
       "├───────────────────────────────┼───────────────────────────┼─────────────────┼────────────────────────────┤\n",
       "│ dense (<span style=\"color: #0087ff; text-decoration-color: #0087ff\">Dense</span>)                 │ (<span style=\"color: #00d7ff; text-decoration-color: #00d7ff\">None</span>, <span style=\"color: #00af00; text-decoration-color: #00af00\">64</span>)                │          <span style=\"color: #00af00; text-decoration-color: #00af00\">10,304</span> │ flatten[<span style=\"color: #00af00; text-decoration-color: #00af00\">0</span>][<span style=\"color: #00af00; text-decoration-color: #00af00\">0</span>]              │\n",
       "├───────────────────────────────┼───────────────────────────┼─────────────────┼────────────────────────────┤\n",
       "│ age_output (<span style=\"color: #0087ff; text-decoration-color: #0087ff\">Dense</span>)            │ (<span style=\"color: #00d7ff; text-decoration-color: #00d7ff\">None</span>, <span style=\"color: #00af00; text-decoration-color: #00af00\">3</span>)                 │             <span style=\"color: #00af00; text-decoration-color: #00af00\">195</span> │ dense[<span style=\"color: #00af00; text-decoration-color: #00af00\">0</span>][<span style=\"color: #00af00; text-decoration-color: #00af00\">0</span>]                │\n",
       "├───────────────────────────────┼───────────────────────────┼─────────────────┼────────────────────────────┤\n",
       "│ gender_output (<span style=\"color: #0087ff; text-decoration-color: #0087ff\">Dense</span>)         │ (<span style=\"color: #00d7ff; text-decoration-color: #00d7ff\">None</span>, <span style=\"color: #00af00; text-decoration-color: #00af00\">2</span>)                 │             <span style=\"color: #00af00; text-decoration-color: #00af00\">130</span> │ dense[<span style=\"color: #00af00; text-decoration-color: #00af00\">0</span>][<span style=\"color: #00af00; text-decoration-color: #00af00\">0</span>]                │\n",
       "└───────────────────────────────┴───────────────────────────┴─────────────────┴────────────────────────────┘\n",
       "</pre>\n"
      ],
      "text/plain": [
       "┏━━━━━━━━━━━━━━━━━━━━━━━━━━━━━━━┳━━━━━━━━━━━━━━━━━━━━━━━━━━━┳━━━━━━━━━━━━━━━━━┳━━━━━━━━━━━━━━━━━━━━━━━━━━━━┓\n",
       "┃\u001b[1m \u001b[0m\u001b[1mLayer (type)                 \u001b[0m\u001b[1m \u001b[0m┃\u001b[1m \u001b[0m\u001b[1mOutput Shape             \u001b[0m\u001b[1m \u001b[0m┃\u001b[1m \u001b[0m\u001b[1m        Param #\u001b[0m\u001b[1m \u001b[0m┃\u001b[1m \u001b[0m\u001b[1mConnected to              \u001b[0m\u001b[1m \u001b[0m┃\n",
       "┡━━━━━━━━━━━━━━━━━━━━━━━━━━━━━━━╇━━━━━━━━━━━━━━━━━━━━━━━━━━━╇━━━━━━━━━━━━━━━━━╇━━━━━━━━━━━━━━━━━━━━━━━━━━━━┩\n",
       "│ input_layer (\u001b[38;5;33mInputLayer\u001b[0m)      │ (\u001b[38;5;45mNone\u001b[0m, \u001b[38;5;34m13\u001b[0m, \u001b[38;5;34m1\u001b[0m)             │               \u001b[38;5;34m0\u001b[0m │ -                          │\n",
       "├───────────────────────────────┼───────────────────────────┼─────────────────┼────────────────────────────┤\n",
       "│ conv1d (\u001b[38;5;33mConv1D\u001b[0m)               │ (\u001b[38;5;45mNone\u001b[0m, \u001b[38;5;34m11\u001b[0m, \u001b[38;5;34m32\u001b[0m)            │             \u001b[38;5;34m128\u001b[0m │ input_layer[\u001b[38;5;34m0\u001b[0m][\u001b[38;5;34m0\u001b[0m]          │\n",
       "├───────────────────────────────┼───────────────────────────┼─────────────────┼────────────────────────────┤\n",
       "│ max_pooling1d (\u001b[38;5;33mMaxPooling1D\u001b[0m)  │ (\u001b[38;5;45mNone\u001b[0m, \u001b[38;5;34m5\u001b[0m, \u001b[38;5;34m32\u001b[0m)             │               \u001b[38;5;34m0\u001b[0m │ conv1d[\u001b[38;5;34m0\u001b[0m][\u001b[38;5;34m0\u001b[0m]               │\n",
       "├───────────────────────────────┼───────────────────────────┼─────────────────┼────────────────────────────┤\n",
       "│ flatten (\u001b[38;5;33mFlatten\u001b[0m)             │ (\u001b[38;5;45mNone\u001b[0m, \u001b[38;5;34m160\u001b[0m)               │               \u001b[38;5;34m0\u001b[0m │ max_pooling1d[\u001b[38;5;34m0\u001b[0m][\u001b[38;5;34m0\u001b[0m]        │\n",
       "├───────────────────────────────┼───────────────────────────┼─────────────────┼────────────────────────────┤\n",
       "│ dense (\u001b[38;5;33mDense\u001b[0m)                 │ (\u001b[38;5;45mNone\u001b[0m, \u001b[38;5;34m64\u001b[0m)                │          \u001b[38;5;34m10,304\u001b[0m │ flatten[\u001b[38;5;34m0\u001b[0m][\u001b[38;5;34m0\u001b[0m]              │\n",
       "├───────────────────────────────┼───────────────────────────┼─────────────────┼────────────────────────────┤\n",
       "│ age_output (\u001b[38;5;33mDense\u001b[0m)            │ (\u001b[38;5;45mNone\u001b[0m, \u001b[38;5;34m3\u001b[0m)                 │             \u001b[38;5;34m195\u001b[0m │ dense[\u001b[38;5;34m0\u001b[0m][\u001b[38;5;34m0\u001b[0m]                │\n",
       "├───────────────────────────────┼───────────────────────────┼─────────────────┼────────────────────────────┤\n",
       "│ gender_output (\u001b[38;5;33mDense\u001b[0m)         │ (\u001b[38;5;45mNone\u001b[0m, \u001b[38;5;34m2\u001b[0m)                 │             \u001b[38;5;34m130\u001b[0m │ dense[\u001b[38;5;34m0\u001b[0m][\u001b[38;5;34m0\u001b[0m]                │\n",
       "└───────────────────────────────┴───────────────────────────┴─────────────────┴────────────────────────────┘\n"
      ]
     },
     "metadata": {},
     "output_type": "display_data"
    },
    {
     "data": {
      "text/html": [
       "<pre style=\"white-space:pre;overflow-x:auto;line-height:normal;font-family:Menlo,'DejaVu Sans Mono',consolas,'Courier New',monospace\"><span style=\"font-weight: bold\"> Total params: </span><span style=\"color: #00af00; text-decoration-color: #00af00\">10,757</span> (42.02 KB)\n",
       "</pre>\n"
      ],
      "text/plain": [
       "\u001b[1m Total params: \u001b[0m\u001b[38;5;34m10,757\u001b[0m (42.02 KB)\n"
      ]
     },
     "metadata": {},
     "output_type": "display_data"
    },
    {
     "data": {
      "text/html": [
       "<pre style=\"white-space:pre;overflow-x:auto;line-height:normal;font-family:Menlo,'DejaVu Sans Mono',consolas,'Courier New',monospace\"><span style=\"font-weight: bold\"> Trainable params: </span><span style=\"color: #00af00; text-decoration-color: #00af00\">10,757</span> (42.02 KB)\n",
       "</pre>\n"
      ],
      "text/plain": [
       "\u001b[1m Trainable params: \u001b[0m\u001b[38;5;34m10,757\u001b[0m (42.02 KB)\n"
      ]
     },
     "metadata": {},
     "output_type": "display_data"
    },
    {
     "data": {
      "text/html": [
       "<pre style=\"white-space:pre;overflow-x:auto;line-height:normal;font-family:Menlo,'DejaVu Sans Mono',consolas,'Courier New',monospace\"><span style=\"font-weight: bold\"> Non-trainable params: </span><span style=\"color: #00af00; text-decoration-color: #00af00\">0</span> (0.00 B)\n",
       "</pre>\n"
      ],
      "text/plain": [
       "\u001b[1m Non-trainable params: \u001b[0m\u001b[38;5;34m0\u001b[0m (0.00 B)\n"
      ]
     },
     "metadata": {},
     "output_type": "display_data"
    }
   ],
   "source": [
    "model.summary()"
   ]
  },
  {
   "cell_type": "code",
   "execution_count": 16,
   "id": "16fc6290-0385-4cb7-816d-96186321102b",
   "metadata": {},
   "outputs": [
    {
     "name": "stdout",
     "output_type": "stream",
     "text": [
      "(1162, 13, 1)\n",
      "(291, 13, 1)\n"
     ]
    }
   ],
   "source": [
    "#reshaping\n",
    "X_train = X_train.reshape((X_train.shape[0], X_train.shape[1], 1))\n",
    "X_val = X_val.reshape((X_val.shape[0], X_val.shape[1], 1))\n",
    "X_test = X_test.reshape((X_test.shape[0], X_test.shape[1], 1))\n",
    "print(X_train.shape)  \n",
    "print(X_val.shape)    \n",
    "\n"
   ]
  },
  {
   "cell_type": "code",
   "execution_count": 17,
   "id": "787f2184-ba92-4003-ae56-5cbda9bfcf2b",
   "metadata": {},
   "outputs": [
    {
     "name": "stdout",
     "output_type": "stream",
     "text": [
      "Epoch 1/30\n",
      "\u001b[1m37/37\u001b[0m \u001b[32m━━━━━━━━━━━━━━━━━━━━\u001b[0m\u001b[37m\u001b[0m \u001b[1m1s\u001b[0m 7ms/step - age_output_accuracy: 0.5351 - age_output_loss: 0.9807 - gender_output_accuracy: 0.5865 - gender_output_loss: 0.6753 - loss: 1.6557 - val_age_output_accuracy: 0.7354 - val_age_output_loss: 0.8391 - val_gender_output_accuracy: 0.6632 - val_gender_output_loss: 0.6313 - val_loss: 1.4900\n",
      "Epoch 2/30\n",
      "\u001b[1m37/37\u001b[0m \u001b[32m━━━━━━━━━━━━━━━━━━━━\u001b[0m\u001b[37m\u001b[0m \u001b[1m0s\u001b[0m 2ms/step - age_output_accuracy: 0.7570 - age_output_loss: 0.8103 - gender_output_accuracy: 0.6600 - gender_output_loss: 0.6309 - loss: 1.4414 - val_age_output_accuracy: 0.7560 - val_age_output_loss: 0.7336 - val_gender_output_accuracy: 0.6976 - val_gender_output_loss: 0.6007 - val_loss: 1.3492\n",
      "Epoch 3/30\n",
      "\u001b[1m37/37\u001b[0m \u001b[32m━━━━━━━━━━━━━━━━━━━━\u001b[0m\u001b[37m\u001b[0m \u001b[1m0s\u001b[0m 2ms/step - age_output_accuracy: 0.7801 - age_output_loss: 0.6952 - gender_output_accuracy: 0.7212 - gender_output_loss: 0.5972 - loss: 1.2924 - val_age_output_accuracy: 0.7560 - val_age_output_loss: 0.6587 - val_gender_output_accuracy: 0.7045 - val_gender_output_loss: 0.5825 - val_loss: 1.2538\n",
      "Epoch 4/30\n",
      "\u001b[1m37/37\u001b[0m \u001b[32m━━━━━━━━━━━━━━━━━━━━\u001b[0m\u001b[37m\u001b[0m \u001b[1m0s\u001b[0m 2ms/step - age_output_accuracy: 0.7680 - age_output_loss: 0.6250 - gender_output_accuracy: 0.7177 - gender_output_loss: 0.5868 - loss: 1.2121 - val_age_output_accuracy: 0.7560 - val_age_output_loss: 0.6082 - val_gender_output_accuracy: 0.7045 - val_gender_output_loss: 0.5688 - val_loss: 1.1864\n",
      "Epoch 5/30\n",
      "\u001b[1m37/37\u001b[0m \u001b[32m━━━━━━━━━━━━━━━━━━━━\u001b[0m\u001b[37m\u001b[0m \u001b[1m0s\u001b[0m 2ms/step - age_output_accuracy: 0.7706 - age_output_loss: 0.5588 - gender_output_accuracy: 0.7008 - gender_output_loss: 0.5777 - loss: 1.1364 - val_age_output_accuracy: 0.7595 - val_age_output_loss: 0.5736 - val_gender_output_accuracy: 0.7045 - val_gender_output_loss: 0.5577 - val_loss: 1.1367\n",
      "Epoch 6/30\n",
      "\u001b[1m37/37\u001b[0m \u001b[32m━━━━━━━━━━━━━━━━━━━━\u001b[0m\u001b[37m\u001b[0m \u001b[1m0s\u001b[0m 2ms/step - age_output_accuracy: 0.7677 - age_output_loss: 0.5497 - gender_output_accuracy: 0.7081 - gender_output_loss: 0.5463 - loss: 1.0961 - val_age_output_accuracy: 0.7766 - val_age_output_loss: 0.5509 - val_gender_output_accuracy: 0.7045 - val_gender_output_loss: 0.5489 - val_loss: 1.1028\n",
      "Epoch 7/30\n",
      "\u001b[1m37/37\u001b[0m \u001b[32m━━━━━━━━━━━━━━━━━━━━\u001b[0m\u001b[37m\u001b[0m \u001b[1m0s\u001b[0m 3ms/step - age_output_accuracy: 0.7813 - age_output_loss: 0.4976 - gender_output_accuracy: 0.7252 - gender_output_loss: 0.5373 - loss: 1.0347 - val_age_output_accuracy: 0.7766 - val_age_output_loss: 0.5361 - val_gender_output_accuracy: 0.7045 - val_gender_output_loss: 0.5418 - val_loss: 1.0787\n",
      "Epoch 8/30\n",
      "\u001b[1m37/37\u001b[0m \u001b[32m━━━━━━━━━━━━━━━━━━━━\u001b[0m\u001b[37m\u001b[0m \u001b[1m0s\u001b[0m 2ms/step - age_output_accuracy: 0.7726 - age_output_loss: 0.4948 - gender_output_accuracy: 0.6980 - gender_output_loss: 0.5534 - loss: 1.0478 - val_age_output_accuracy: 0.7869 - val_age_output_loss: 0.5252 - val_gender_output_accuracy: 0.7045 - val_gender_output_loss: 0.5351 - val_loss: 1.0582\n",
      "Epoch 9/30\n",
      "\u001b[1m37/37\u001b[0m \u001b[32m━━━━━━━━━━━━━━━━━━━━\u001b[0m\u001b[37m\u001b[0m \u001b[1m0s\u001b[0m 2ms/step - age_output_accuracy: 0.7638 - age_output_loss: 0.4900 - gender_output_accuracy: 0.7295 - gender_output_loss: 0.5268 - loss: 1.0166 - val_age_output_accuracy: 0.7835 - val_age_output_loss: 0.5176 - val_gender_output_accuracy: 0.7148 - val_gender_output_loss: 0.5292 - val_loss: 1.0438\n",
      "Epoch 10/30\n",
      "\u001b[1m37/37\u001b[0m \u001b[32m━━━━━━━━━━━━━━━━━━━━\u001b[0m\u001b[37m\u001b[0m \u001b[1m0s\u001b[0m 2ms/step - age_output_accuracy: 0.8112 - age_output_loss: 0.4392 - gender_output_accuracy: 0.7524 - gender_output_loss: 0.4917 - loss: 0.9307 - val_age_output_accuracy: 0.7766 - val_age_output_loss: 0.5109 - val_gender_output_accuracy: 0.7113 - val_gender_output_loss: 0.5237 - val_loss: 1.0295\n",
      "Epoch 11/30\n",
      "\u001b[1m37/37\u001b[0m \u001b[32m━━━━━━━━━━━━━━━━━━━━\u001b[0m\u001b[37m\u001b[0m \u001b[1m0s\u001b[0m 2ms/step - age_output_accuracy: 0.8015 - age_output_loss: 0.4377 - gender_output_accuracy: 0.7647 - gender_output_loss: 0.4898 - loss: 0.9275 - val_age_output_accuracy: 0.7732 - val_age_output_loss: 0.5065 - val_gender_output_accuracy: 0.7182 - val_gender_output_loss: 0.5190 - val_loss: 1.0193\n",
      "Epoch 12/30\n",
      "\u001b[1m37/37\u001b[0m \u001b[32m━━━━━━━━━━━━━━━━━━━━\u001b[0m\u001b[37m\u001b[0m \u001b[1m0s\u001b[0m 2ms/step - age_output_accuracy: 0.7957 - age_output_loss: 0.4326 - gender_output_accuracy: 0.7733 - gender_output_loss: 0.4818 - loss: 0.9145 - val_age_output_accuracy: 0.7766 - val_age_output_loss: 0.5025 - val_gender_output_accuracy: 0.7388 - val_gender_output_loss: 0.5147 - val_loss: 1.0115\n",
      "Epoch 13/30\n",
      "\u001b[1m37/37\u001b[0m \u001b[32m━━━━━━━━━━━━━━━━━━━━\u001b[0m\u001b[37m\u001b[0m \u001b[1m0s\u001b[0m 2ms/step - age_output_accuracy: 0.8124 - age_output_loss: 0.4441 - gender_output_accuracy: 0.7609 - gender_output_loss: 0.4905 - loss: 0.9349 - val_age_output_accuracy: 0.7766 - val_age_output_loss: 0.4996 - val_gender_output_accuracy: 0.7388 - val_gender_output_loss: 0.5116 - val_loss: 1.0040\n",
      "Epoch 14/30\n",
      "\u001b[1m37/37\u001b[0m \u001b[32m━━━━━━━━━━━━━━━━━━━━\u001b[0m\u001b[37m\u001b[0m \u001b[1m0s\u001b[0m 2ms/step - age_output_accuracy: 0.7951 - age_output_loss: 0.4284 - gender_output_accuracy: 0.7736 - gender_output_loss: 0.4769 - loss: 0.9051 - val_age_output_accuracy: 0.7801 - val_age_output_loss: 0.4962 - val_gender_output_accuracy: 0.7354 - val_gender_output_loss: 0.5083 - val_loss: 0.9971\n",
      "Epoch 15/30\n",
      "\u001b[1m37/37\u001b[0m \u001b[32m━━━━━━━━━━━━━━━━━━━━\u001b[0m\u001b[37m\u001b[0m \u001b[1m0s\u001b[0m 3ms/step - age_output_accuracy: 0.7990 - age_output_loss: 0.4221 - gender_output_accuracy: 0.7625 - gender_output_loss: 0.4758 - loss: 0.8982 - val_age_output_accuracy: 0.7835 - val_age_output_loss: 0.4941 - val_gender_output_accuracy: 0.7354 - val_gender_output_loss: 0.5050 - val_loss: 0.9907\n",
      "Epoch 16/30\n",
      "\u001b[1m37/37\u001b[0m \u001b[32m━━━━━━━━━━━━━━━━━━━━\u001b[0m\u001b[37m\u001b[0m \u001b[1m0s\u001b[0m 2ms/step - age_output_accuracy: 0.8092 - age_output_loss: 0.4220 - gender_output_accuracy: 0.7907 - gender_output_loss: 0.4616 - loss: 0.8836 - val_age_output_accuracy: 0.7835 - val_age_output_loss: 0.4914 - val_gender_output_accuracy: 0.7388 - val_gender_output_loss: 0.5019 - val_loss: 0.9859\n",
      "Epoch 17/30\n",
      "\u001b[1m37/37\u001b[0m \u001b[32m━━━━━━━━━━━━━━━━━━━━\u001b[0m\u001b[37m\u001b[0m \u001b[1m0s\u001b[0m 3ms/step - age_output_accuracy: 0.8056 - age_output_loss: 0.4129 - gender_output_accuracy: 0.7582 - gender_output_loss: 0.4732 - loss: 0.8861 - val_age_output_accuracy: 0.7835 - val_age_output_loss: 0.4904 - val_gender_output_accuracy: 0.7526 - val_gender_output_loss: 0.4993 - val_loss: 0.9814\n",
      "Epoch 18/30\n",
      "\u001b[1m37/37\u001b[0m \u001b[32m━━━━━━━━━━━━━━━━━━━━\u001b[0m\u001b[37m\u001b[0m \u001b[1m0s\u001b[0m 2ms/step - age_output_accuracy: 0.8043 - age_output_loss: 0.4084 - gender_output_accuracy: 0.7698 - gender_output_loss: 0.4707 - loss: 0.8791 - val_age_output_accuracy: 0.7835 - val_age_output_loss: 0.4878 - val_gender_output_accuracy: 0.7526 - val_gender_output_loss: 0.4980 - val_loss: 0.9776\n",
      "Epoch 19/30\n",
      "\u001b[1m37/37\u001b[0m \u001b[32m━━━━━━━━━━━━━━━━━━━━\u001b[0m\u001b[37m\u001b[0m \u001b[1m0s\u001b[0m 2ms/step - age_output_accuracy: 0.8050 - age_output_loss: 0.4257 - gender_output_accuracy: 0.7841 - gender_output_loss: 0.4660 - loss: 0.8918 - val_age_output_accuracy: 0.7835 - val_age_output_loss: 0.4856 - val_gender_output_accuracy: 0.7526 - val_gender_output_loss: 0.4953 - val_loss: 0.9733\n",
      "Epoch 20/30\n",
      "\u001b[1m37/37\u001b[0m \u001b[32m━━━━━━━━━━━━━━━━━━━━\u001b[0m\u001b[37m\u001b[0m \u001b[1m0s\u001b[0m 2ms/step - age_output_accuracy: 0.8004 - age_output_loss: 0.4276 - gender_output_accuracy: 0.7777 - gender_output_loss: 0.4540 - loss: 0.8816 - val_age_output_accuracy: 0.7835 - val_age_output_loss: 0.4843 - val_gender_output_accuracy: 0.7629 - val_gender_output_loss: 0.4939 - val_loss: 0.9701\n",
      "Epoch 21/30\n",
      "\u001b[1m37/37\u001b[0m \u001b[32m━━━━━━━━━━━━━━━━━━━━\u001b[0m\u001b[37m\u001b[0m \u001b[1m0s\u001b[0m 2ms/step - age_output_accuracy: 0.8014 - age_output_loss: 0.4088 - gender_output_accuracy: 0.7917 - gender_output_loss: 0.4510 - loss: 0.8597 - val_age_output_accuracy: 0.7801 - val_age_output_loss: 0.4826 - val_gender_output_accuracy: 0.7732 - val_gender_output_loss: 0.4919 - val_loss: 0.9665\n",
      "Epoch 22/30\n",
      "\u001b[1m37/37\u001b[0m \u001b[32m━━━━━━━━━━━━━━━━━━━━\u001b[0m\u001b[37m\u001b[0m \u001b[1m0s\u001b[0m 2ms/step - age_output_accuracy: 0.8185 - age_output_loss: 0.4067 - gender_output_accuracy: 0.7921 - gender_output_loss: 0.4469 - loss: 0.8537 - val_age_output_accuracy: 0.7801 - val_age_output_loss: 0.4804 - val_gender_output_accuracy: 0.7766 - val_gender_output_loss: 0.4909 - val_loss: 0.9640\n",
      "Epoch 23/30\n",
      "\u001b[1m37/37\u001b[0m \u001b[32m━━━━━━━━━━━━━━━━━━━━\u001b[0m\u001b[37m\u001b[0m \u001b[1m0s\u001b[0m 2ms/step - age_output_accuracy: 0.8068 - age_output_loss: 0.3989 - gender_output_accuracy: 0.7972 - gender_output_loss: 0.4378 - loss: 0.8366 - val_age_output_accuracy: 0.7835 - val_age_output_loss: 0.4789 - val_gender_output_accuracy: 0.7732 - val_gender_output_loss: 0.4889 - val_loss: 0.9623\n",
      "Epoch 24/30\n",
      "\u001b[1m37/37\u001b[0m \u001b[32m━━━━━━━━━━━━━━━━━━━━\u001b[0m\u001b[37m\u001b[0m \u001b[1m0s\u001b[0m 2ms/step - age_output_accuracy: 0.8217 - age_output_loss: 0.3895 - gender_output_accuracy: 0.7900 - gender_output_loss: 0.4475 - loss: 0.8370 - val_age_output_accuracy: 0.7801 - val_age_output_loss: 0.4765 - val_gender_output_accuracy: 0.7732 - val_gender_output_loss: 0.4868 - val_loss: 0.9568\n",
      "Epoch 25/30\n",
      "\u001b[1m37/37\u001b[0m \u001b[32m━━━━━━━━━━━━━━━━━━━━\u001b[0m\u001b[37m\u001b[0m \u001b[1m0s\u001b[0m 2ms/step - age_output_accuracy: 0.8170 - age_output_loss: 0.3946 - gender_output_accuracy: 0.8095 - gender_output_loss: 0.4244 - loss: 0.8186 - val_age_output_accuracy: 0.7835 - val_age_output_loss: 0.4747 - val_gender_output_accuracy: 0.7663 - val_gender_output_loss: 0.4866 - val_loss: 0.9565\n",
      "Epoch 26/30\n",
      "\u001b[1m37/37\u001b[0m \u001b[32m━━━━━━━━━━━━━━━━━━━━\u001b[0m\u001b[37m\u001b[0m \u001b[1m0s\u001b[0m 2ms/step - age_output_accuracy: 0.8100 - age_output_loss: 0.3987 - gender_output_accuracy: 0.8039 - gender_output_loss: 0.4163 - loss: 0.8147 - val_age_output_accuracy: 0.7766 - val_age_output_loss: 0.4721 - val_gender_output_accuracy: 0.7732 - val_gender_output_loss: 0.4858 - val_loss: 0.9535\n",
      "Epoch 27/30\n",
      "\u001b[1m37/37\u001b[0m \u001b[32m━━━━━━━━━━━━━━━━━━━━\u001b[0m\u001b[37m\u001b[0m \u001b[1m0s\u001b[0m 2ms/step - age_output_accuracy: 0.8049 - age_output_loss: 0.4115 - gender_output_accuracy: 0.7973 - gender_output_loss: 0.4273 - loss: 0.8389 - val_age_output_accuracy: 0.7835 - val_age_output_loss: 0.4709 - val_gender_output_accuracy: 0.7698 - val_gender_output_loss: 0.4829 - val_loss: 0.9486\n",
      "Epoch 28/30\n",
      "\u001b[1m37/37\u001b[0m \u001b[32m━━━━━━━━━━━━━━━━━━━━\u001b[0m\u001b[37m\u001b[0m \u001b[1m0s\u001b[0m 2ms/step - age_output_accuracy: 0.8230 - age_output_loss: 0.3849 - gender_output_accuracy: 0.8039 - gender_output_loss: 0.4344 - loss: 0.8192 - val_age_output_accuracy: 0.7801 - val_age_output_loss: 0.4697 - val_gender_output_accuracy: 0.7732 - val_gender_output_loss: 0.4833 - val_loss: 0.9498\n",
      "Epoch 29/30\n",
      "\u001b[1m37/37\u001b[0m \u001b[32m━━━━━━━━━━━━━━━━━━━━\u001b[0m\u001b[37m\u001b[0m \u001b[1m0s\u001b[0m 3ms/step - age_output_accuracy: 0.8297 - age_output_loss: 0.3695 - gender_output_accuracy: 0.7971 - gender_output_loss: 0.4417 - loss: 0.8112 - val_age_output_accuracy: 0.7732 - val_age_output_loss: 0.4679 - val_gender_output_accuracy: 0.7698 - val_gender_output_loss: 0.4801 - val_loss: 0.9446\n",
      "Epoch 30/30\n",
      "\u001b[1m37/37\u001b[0m \u001b[32m━━━━━━━━━━━━━━━━━━━━\u001b[0m\u001b[37m\u001b[0m \u001b[1m0s\u001b[0m 2ms/step - age_output_accuracy: 0.8266 - age_output_loss: 0.3804 - gender_output_accuracy: 0.8006 - gender_output_loss: 0.4301 - loss: 0.8108 - val_age_output_accuracy: 0.7732 - val_age_output_loss: 0.4657 - val_gender_output_accuracy: 0.7732 - val_gender_output_loss: 0.4792 - val_loss: 0.9419\n"
     ]
    }
   ],
   "source": [
    "history = model.fit(\n",
    "    X_train, \n",
    "    {'age_output': y_train_age, 'gender_output': y_train_gender},\n",
    "    epochs=30,  \n",
    "    batch_size=32,  \n",
    "    validation_data=(X_val, {'age_output': y_val_age, 'gender_output': y_val_gender}),\n",
    "    verbose=1  # Set to 1 to see progress during training\n",
    ")\n"
   ]
  },
  {
   "cell_type": "code",
   "execution_count": 18,
   "id": "9b823736-b223-4a90-8c08-a4a2a1a9a723",
   "metadata": {},
   "outputs": [],
   "source": [
    "# Extract features for test files\n",
    "X_test = extract_features_from_files(test_files, extract_mfcc)\n",
    "X_test = scaler.transform(X_test)  # Apply the same scaling as training data\n",
    "X_test = X_test.reshape((X_test.shape[0], X_test.shape[1], 1))  # Reshape for the model\n"
   ]
  },
  {
   "cell_type": "code",
   "execution_count": 19,
   "id": "2d886d75-16ef-49b1-807f-378761d4de01",
   "metadata": {},
   "outputs": [
    {
     "name": "stdout",
     "output_type": "stream",
     "text": [
      "Number of test files: 637\n",
      "Shape of X_test: (637, 13, 1)\n"
     ]
    }
   ],
   "source": [
    "print(f\"Number of test files: {len(test_files)}\")\n",
    "print(f\"Shape of X_test: {X_test.shape}\")"
   ]
  },
  {
   "cell_type": "code",
   "execution_count": 20,
   "id": "184860fc-4fa2-4480-8770-dce2d97b9531",
   "metadata": {},
   "outputs": [
    {
     "name": "stdout",
     "output_type": "stream",
     "text": [
      "Shape of X_test: (637, 13, 1)\n"
     ]
    }
   ],
   "source": [
    "print(f\"Shape of X_test: {X_test.shape}\")"
   ]
  },
  {
   "cell_type": "code",
   "execution_count": 21,
   "id": "b54f36e2-085f-4dbd-bd84-9e985add604a",
   "metadata": {},
   "outputs": [
    {
     "name": "stdout",
     "output_type": "stream",
     "text": [
      "\u001b[1m20/20\u001b[0m \u001b[32m━━━━━━━━━━━━━━━━━━━━\u001b[0m\u001b[37m\u001b[0m \u001b[1m0s\u001b[0m 3ms/step\n"
     ]
    }
   ],
   "source": [
    "predictions = model.predict(X_test, batch_size=32)   #637/32"
   ]
  },
  {
   "cell_type": "code",
   "execution_count": 24,
   "id": "e5518bd0-08c0-4ae8-ad65-aa6ca80ace3a",
   "metadata": {},
   "outputs": [
    {
     "name": "stdout",
     "output_type": "stream",
     "text": [
      "[1 1 1 0 1 1 1 1 0 1]\n",
      "[0 0 0 0 0 0 0 0 1 0]\n"
     ]
    }
   ],
   "source": [
    "# Define thresholds for fallback logic\n",
    "lower_bound_threshold = 0.8  # Lower bound for confidence\n",
    "\n",
    "# Extract probabilities for each sample\n",
    "predicted_age_probs = predictions[0]  # Probabilities for age groups\n",
    "predicted_gender_probs = predictions[1]\n",
    "# Initialize an array for predicted labels\n",
    "predicted_age_labels = np.argmax(predicted_age_probs, axis=1)\n",
    "predicted_gender_labels = np.argmax(predicted_gender_probs, axis=1)\n",
    "\n",
    "# Apply fallback mechanism so 0 can be included now,\n",
    "for i, probs in enumerate(predicted_age_probs):\n",
    "    if np.max(probs) < lower_bound_threshold:\n",
    "        predicted_age_labels[i] = 0  # Assign to age group 0 if below threshold\n",
    "\n",
    "\n",
    "# Print some predictions to check\n",
    "print(predicted_age_labels[:10])  # Print first 10 predictions\n",
    "print(predicted_gender_labels[:10])\n",
    "\n"
   ]
  },
  {
   "cell_type": "code",
   "execution_count": 25,
   "id": "c36212ed-cf1a-4114-8fb6-6d6643499bf9",
   "metadata": {},
   "outputs": [
    {
     "name": "stdout",
     "output_type": "stream",
     "text": [
      "Number of rows in DataFrame: 637\n",
      "  File_name  Age_group Gender\n",
      "0     1.wav          1   Male\n",
      "1    10.wav          1   Male\n",
      "2  1000.wav          1   Male\n",
      "3   106.wav          0   Male\n",
      "4   107.wav          1   Male\n"
     ]
    }
   ],
   "source": [
    "import pandas as pd\n",
    "\n",
    "# Redefine the DataFrame\n",
    "df = pd.DataFrame({\n",
    "    'File_name': [os.path.basename(file) for file in test_files],\n",
    "    'Age_group': predicted_age_labels,\n",
    "    'Gender': ['Male' if gender == 0 else 'Female' for gender in predicted_gender_labels]\n",
    "})\n",
    "\n",
    "\n",
    "print(f\"Number of rows in DataFrame: {len(df)}\")\n",
    "\n",
    "# Print the first few rows to check the DataFrame\n",
    "print(df.head())"
   ]
  },
  {
   "cell_type": "code",
   "execution_count": 26,
   "id": "151f3c98-e305-4952-85d4-7af3b3b53ab1",
   "metadata": {},
   "outputs": [],
   "source": [
    "output_csv_path = 'predictions6.csv'\n",
    "df.to_csv(output_csv_path, index=False)\n",
    "\n",
    "#finished !!"
   ]
  },
  {
   "cell_type": "code",
   "execution_count": 27,
   "id": "06394d42-117e-4fdf-a7c7-9e8eb811502f",
   "metadata": {},
   "outputs": [
    {
     "name": "stdout",
     "output_type": "stream",
     "text": [
      "\u001b[1m10/10\u001b[0m \u001b[32m━━━━━━━━━━━━━━━━━━━━\u001b[0m\u001b[37m\u001b[0m \u001b[1m0s\u001b[0m 989us/step\n",
      "Age Confusion Matrix:\n",
      "[[198  21]\n",
      " [ 45  27]]\n",
      "Gender Confusion Matrix:\n",
      "[[185  20]\n",
      " [ 46  40]]\n"
     ]
    },
    {
     "data": {
      "image/png": "[encoded data removed]",
      "text/plain": [
       "<Figure size 800x600 with 2 Axes>"
      ]
     },
     "metadata": {},
     "output_type": "display_data"
    },
    {
     "data": {
      "image/png": "[encoded data removed]",
      "text/plain": [
       "<Figure size 800x600 with 2 Axes>"
      ]
     },
     "metadata": {},
     "output_type": "display_data"
    }
   ],
   "source": [
    "#not req really from now just for testing...\n",
    "from sklearn.metrics import confusion_matrix, classification_report\n",
    "import seaborn as sns\n",
    "import matplotlib.pyplot as plt\n",
    "\n",
    "# After training the model and making predictions\n",
    "y_val_pred = model.predict(X_val)\n",
    "y_val_age_pred = np.argmax(y_val_pred[0], axis=1)\n",
    "y_val_gender_pred = np.argmax(y_val_pred[1], axis=1)\n",
    "\n",
    "# Confusion matrix for age and gender\n",
    "age_cm = confusion_matrix(y_val_age, y_val_age_pred)\n",
    "gender_cm = confusion_matrix(y_val_gender, y_val_gender_pred)\n",
    "\n",
    "# Print confusion matrices\n",
    "print(\"Age Confusion Matrix:\")\n",
    "print(age_cm)\n",
    "print(\"Gender Confusion Matrix:\")\n",
    "print(gender_cm)\n",
    "\n",
    "# Visualize the confusion matrix for age\n",
    "plt.figure(figsize=(8, 6))\n",
    "sns.heatmap(age_cm, annot=True, fmt='d', cmap='Blues', \n",
    "            xticklabels=['0-15', '16-40', '41+'], \n",
    "            yticklabels=['0-15', '16-40', '41+'])\n",
    "plt.xlabel('Predicted')\n",
    "plt.ylabel('True')\n",
    "plt.title('Age Confusion Matrix')\n",
    "plt.show()\n",
    "\n",
    "# Visualize the confusion matrix for gender\n",
    "plt.figure(figsize=(8, 6))\n",
    "sns.heatmap(gender_cm, annot=True, fmt='d', cmap='Blues', \n",
    "            xticklabels=['Male', 'Female'], \n",
    "            yticklabels=['Male', 'Female'])\n",
    "plt.xlabel('Predicted')\n",
    "plt.ylabel('True')\n",
    "plt.title('Gender Confusion Matrix')\n",
    "plt.show()\n"
   ]
  },
  {
   "cell_type": "code",
   "execution_count": 66,
   "id": "216053b9-9f26-45b6-bd84-b103e36b8bf5",
   "metadata": {},
   "outputs": [
    {
     "name": "stdout",
     "output_type": "stream",
     "text": [
      "[[3.9897577e-04 9.9341834e-01 6.1827148e-03]\n",
      " [1.1035907e-03 9.5909113e-01 3.9805293e-02]\n",
      " [7.4493196e-03 8.9570665e-01 9.6844032e-02]\n",
      " [3.9570727e-03 7.9752326e-01 1.9851962e-01]\n",
      " [1.2611967e-03 9.8661369e-01 1.2125097e-02]\n",
      " [2.7553748e-02 7.9449493e-01 1.7795131e-01]\n",
      " [1.5600463e-03 8.2250631e-01 1.7593363e-01]\n",
      " [1.0278644e-03 9.7113639e-01 2.7835816e-02]\n",
      " [4.0521333e-03 6.5048581e-01 3.4546205e-01]\n",
      " [6.7033811e-04 9.7739363e-01 2.1935992e-02]]\n"
     ]
    }
   ],
   "source": [
    "print(predicted_age_probs[:10])  # Print probabilities for the first 10 samples"
   ]
  },
  {
   "cell_type": "code",
   "execution_count": 60,
   "id": "eeaa5bd5-a171-43b5-afb1-3cb420de8a7f",
   "metadata": {},
   "outputs": [
    {
     "name": "stdout",
     "output_type": "stream",
     "text": [
      "The filename for index 93 is: 240.wav\n"
     ]
    }
   ],
   "source": [
    "# Create a list of test file names\n",
    "test_file_names = [os.path.basename(file) for file in test_files]\n",
    "\n",
    "# Define the index you want to check\n",
    "sample_index = 93# For example, if the index is 1\n",
    "\n",
    "# Get the filename for that index\n",
    "filename = test_file_names[sample_index]\n",
    "\n",
    "# Print the filename\n",
    "print(f\"The filename for index {sample_index} is: {filename}\")\n",
    "\n"
   ]
  },
  {
   "cell_type": "code",
   "execution_count": 61,
   "id": "a8ecc67a-9fa0-4652-a9f9-4708d0f0ff0e",
   "metadata": {},
   "outputs": [
    {
     "name": "stdout",
     "output_type": "stream",
     "text": [
      "Probabilities for age for sample 93: [0.00322011 0.7875312  0.20924872]\n",
      "Probabilities for gender for sample 93: [0.7182437  0.28175637]\n"
     ]
    }
   ],
   "source": [
    "\n",
    "specific_age_probs = predicted_age_probs[sample_index]\n",
    "specific_gender_probs = predicted_gender_probs[sample_index]\n",
    "\n",
    "print(f\"Probabilities for age for sample {sample_index}: {specific_age_probs}\")\n",
    "print(f\"Probabilities for gender for sample {sample_index}: {specific_gender_probs}\")\n"
   ]
  },
  {
   "cell_type": "code",
   "execution_count": null,
   "id": "507dbd83-3929-4694-b9f9-2ccfa1d9a299",
   "metadata": {},
   "outputs": [],
   "source": []
  }
 ],
 "metadata": {
  "kernelspec": {
   "display_name": "Python 3 (ipykernel)",
   "language": "python",
   "name": "python3"
  },
  "language_info": {
   "codemirror_mode": {
    "name": "ipython",
    "version": 3
   },
   "file_extension": ".py",
   "mimetype": "text/x-python",
   "name": "python",
   "nbconvert_exporter": "python",
   "pygments_lexer": "ipython3",
   "version": "3.12.4"
  }
 },
 "nbformat": 4,
 "nbformat_minor": 5
}
